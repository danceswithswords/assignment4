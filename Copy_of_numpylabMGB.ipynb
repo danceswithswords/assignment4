{
  "nbformat": 4,
  "nbformat_minor": 0,
  "metadata": {
    "anaconda-cloud": {},
    "kernelspec": {
      "display_name": "Python 3",
      "language": "python",
      "name": "python3"
    },
    "language_info": {
      "codemirror_mode": {
        "name": "ipython",
        "version": 3
      },
      "file_extension": ".py",
      "mimetype": "text/x-python",
      "name": "python",
      "nbconvert_exporter": "python",
      "pygments_lexer": "ipython3",
      "version": "3.8.3"
    },
    "colab": {
      "name": "Copy of numpylabMGB.ipynb",
      "provenance": [],
      "collapsed_sections": [
        "OOOMgwbnilLk"
      ],
      "include_colab_link": true
    }
  },
  "cells": [
    {
      "cell_type": "markdown",
      "metadata": {
        "id": "view-in-github",
        "colab_type": "text"
      },
      "source": [
        "<a href=\"https://colab.research.google.com/github/danceswithswords/assignment4/blob/master/Copy_of_numpylabMGB.ipynb\" target=\"_parent\"><img src=\"https://colab.research.google.com/assets/colab-badge.svg\" alt=\"Open In Colab\"/></a>"
      ]
    },
    {
      "cell_type": "markdown",
      "metadata": {
        "id": "uy-S3HZSilFq",
        "colab_type": "text"
      },
      "source": [
        "# Task 1: Getting started with Numpy\n",
        "\n",
        "Let's spend a few minutes just learning some of the fundamentals of Numpy. (pronounced as num-pie **not num-pee**) \n",
        "\n",
        "### what is numpy\n",
        "Numpy is a Python library that support large, multi-dimensional arrays and matrices. \n",
        "\n",
        "Let's look at an example. Suppose we start with a little table:\n",
        "\n",
        "| a  | b | c  |  d | e |\n",
        "| :---: | :---: | :---: | :---: | :---: |\n",
        "| 0 | 1 | 2 | 3 | 4 |\n",
        "|10| 11| 12 | 13 | 14|\n",
        "|20| 21 | 22 | 23 | 24 |\n",
        "|30 | 31 | 32 | 33 | 34 |\n",
        "|40 |41 | 42 | 43 | 44 |\n",
        "\n",
        "and I simply want to add 10 to each cell:\n",
        "\n",
        "| a  | b | c  |  d | e |\n",
        "| :---: | :---: | :---: | :---: | :---: |\n",
        "| 10 | 11 | 12 | 13 | 14 |\n",
        "|20| 21| 22 | 23 | 24|\n",
        "|30| 31 | 32 | 33 | 34 |\n",
        "|40 | 41 | 42 | 43 | 44 |\n",
        "|50 |51 | 52 | 53 | 54 |\n",
        "\n",
        "To make things interesting, instead of a a 5 x5 array, let's make it 1,000x1,000 -- so 1 million cells!\n",
        "\n",
        "First, let's construct it in generic Python"
      ]
    },
    {
      "cell_type": "code",
      "metadata": {
        "id": "d7Eu8rEiilFs",
        "colab_type": "code",
        "colab": {}
      },
      "source": [
        "a = [[x + y * 1000 for x in range(1000)] for y in range(1000)]\n"
      ],
      "execution_count": null,
      "outputs": []
    },
    {
      "cell_type": "markdown",
      "metadata": {
        "id": "wW2WGwIiilF4",
        "colab_type": "text"
      },
      "source": [
        "Instead of glossing over the first code example in the course, take your time, go back, and parse it out so you understand it. Test it out and see what it looks like. For example, how would you change the example to make a 10x10 array called `a2`? execute the code here:"
      ]
    },
    {
      "cell_type": "code",
      "metadata": {
        "id": "dak5IpzPilF4",
        "colab_type": "code",
        "colab": {}
      },
      "source": [
        "a2 = [[x + y * 10 for x in range(10)] for y in range(10)]"
      ],
      "execution_count": null,
      "outputs": []
    },
    {
      "cell_type": "markdown",
      "metadata": {
        "id": "2Kc4HuRlilF8",
        "colab_type": "text"
      },
      "source": [
        "Now let's take a look at the value of a2:"
      ]
    },
    {
      "cell_type": "code",
      "metadata": {
        "id": "-E_jLC_iilF8",
        "colab_type": "code",
        "colab": {
          "base_uri": "https://localhost:8080/",
          "height": 187
        },
        "outputId": "51821259-5a9b-4e85-c6e9-8edab8003b7a"
      },
      "source": [
        "a2"
      ],
      "execution_count": null,
      "outputs": [
        {
          "output_type": "execute_result",
          "data": {
            "text/plain": [
              "[[0, 1, 2, 3, 4, 5, 6, 7, 8, 9],\n",
              " [10, 11, 12, 13, 14, 15, 16, 17, 18, 19],\n",
              " [20, 21, 22, 23, 24, 25, 26, 27, 28, 29],\n",
              " [30, 31, 32, 33, 34, 35, 36, 37, 38, 39],\n",
              " [40, 41, 42, 43, 44, 45, 46, 47, 48, 49],\n",
              " [50, 51, 52, 53, 54, 55, 56, 57, 58, 59],\n",
              " [60, 61, 62, 63, 64, 65, 66, 67, 68, 69],\n",
              " [70, 71, 72, 73, 74, 75, 76, 77, 78, 79],\n",
              " [80, 81, 82, 83, 84, 85, 86, 87, 88, 89],\n",
              " [90, 91, 92, 93, 94, 95, 96, 97, 98, 99]]"
            ]
          },
          "metadata": {
            "tags": []
          },
          "execution_count": 30
        }
      ]
    },
    {
      "cell_type": "markdown",
      "metadata": {
        "id": "a8pYNoyyilGC",
        "colab_type": "text"
      },
      "source": [
        "Now that we understand that line of code let's go on and write a function that will add 10 to each cell in our original 1000x1000 matrix.\n"
      ]
    },
    {
      "cell_type": "code",
      "metadata": {
        "id": "NVtYPucWilGP",
        "colab_type": "code",
        "colab": {}
      },
      "source": [
        "def addToArr(sizeof):\n",
        "    for i in range(sizeof):\n",
        "        for j in range(sizeof):\n",
        "            a[i][j] = a[i][j] + 10\n"
      ],
      "execution_count": null,
      "outputs": []
    },
    {
      "cell_type": "markdown",
      "metadata": {
        "id": "H_FD3W8RilGW",
        "colab_type": "text"
      },
      "source": [
        "As you can see, we iterate over the array with nested for loops. \n",
        "\n",
        "Let's take a look at how much time it takes to run that function:"
      ]
    },
    {
      "cell_type": "code",
      "metadata": {
        "id": "S0MEYimIilGY",
        "colab_type": "code",
        "colab": {
          "base_uri": "https://localhost:8080/",
          "height": 51
        },
        "outputId": "874ffd79-a5ec-4c3d-d7de-c22a42e522f7"
      },
      "source": [
        "%time addToArr(1000)"
      ],
      "execution_count": null,
      "outputs": [
        {
          "output_type": "stream",
          "text": [
            "CPU times: user 127 ms, sys: 170 µs, total: 127 ms\n",
            "Wall time: 131 ms\n"
          ],
          "name": "stdout"
        }
      ]
    },
    {
      "cell_type": "markdown",
      "metadata": {
        "id": "c8WqFQo5ilGe",
        "colab_type": "text"
      },
      "source": [
        "My results were:\n",
        "\n",
        "    CPU times: user 145 ms, sys: 0 ns, total: 145 ms\n",
        "    Wall time: 143 ms\n",
        "\n",
        "So about 1/7 of a second. \n",
        "\n",
        "### Doing in using Numpy\n",
        "Now do the same using Numpy.\n",
        "\n",
        "\n",
        "We can construct the array using\n",
        "    \n",
        "    arr = np.arange(1000000).reshape((1000,1000))\n",
        "\n",
        "Not sure what that line does? Numpy has great online documentation. [Documentation for np.arange](https://numpy.org/doc/stable/reference/generated/numpy.arange.html) says it \"Return evenly spaced values within a given interval.\" Let's try it out:"
      ]
    },
    {
      "cell_type": "code",
      "metadata": {
        "id": "jGFDFHlcilGe",
        "colab_type": "code",
        "colab": {
          "base_uri": "https://localhost:8080/",
          "height": 34
        },
        "outputId": "6759ad29-03ad-44f4-c87d-8d1d948bfe52"
      },
      "source": [
        "import numpy as np\n",
        "np.arange(16)"
      ],
      "execution_count": null,
      "outputs": [
        {
          "output_type": "execute_result",
          "data": {
            "text/plain": [
              "array([ 0,  1,  2,  3,  4,  5,  6,  7,  8,  9, 10, 11, 12, 13, 14, 15])"
            ]
          },
          "metadata": {
            "tags": []
          },
          "execution_count": 33
        }
      ]
    },
    {
      "cell_type": "markdown",
      "metadata": {
        "id": "7lJE79sPilGp",
        "colab_type": "text"
      },
      "source": [
        "So `np.arange(10)` creates a matrix of 16 sequential integers. [The documentation for reshape](https://numpy.org/doc/1.18/reference/generated/numpy.reshape.html) says, as the name suggests, \"Gives a new shape to an array without changing its data.\"  Suppose we want to reshape our 1 dimensional matrix of 16 integers to a 4x4 one. we can do:"
      ]
    },
    {
      "cell_type": "code",
      "metadata": {
        "id": "V0iblYrdilGq",
        "colab_type": "code",
        "colab": {
          "base_uri": "https://localhost:8080/",
          "height": 85
        },
        "outputId": "7c68ae07-1f6b-482d-998f-83d45ed3fbe3"
      },
      "source": [
        "np.arange(16).reshape((4,4))"
      ],
      "execution_count": null,
      "outputs": [
        {
          "output_type": "execute_result",
          "data": {
            "text/plain": [
              "array([[ 0,  1,  2,  3],\n",
              "       [ 4,  5,  6,  7],\n",
              "       [ 8,  9, 10, 11],\n",
              "       [12, 13, 14, 15]])"
            ]
          },
          "metadata": {
            "tags": []
          },
          "execution_count": 34
        }
      ]
    },
    {
      "cell_type": "markdown",
      "metadata": {
        "id": "ziXafrFgilGy",
        "colab_type": "text"
      },
      "source": [
        "As you can see it is pretty easy to find documentation on Numpy.\n",
        "\n",
        "Back to our example of creating a 1000x1000 matrix, we now can time how long it takes to add 10 to each cell.\n",
        "\n",
        "    %time arr = arr + 10\n",
        "    \n",
        "Let's put this all together:"
      ]
    },
    {
      "cell_type": "code",
      "metadata": {
        "id": "unikN7ufilGy",
        "colab_type": "code",
        "colab": {
          "base_uri": "https://localhost:8080/",
          "height": 51
        },
        "outputId": "0440765d-6b2b-4e70-f8d1-e8675aa85ced"
      },
      "source": [
        "import numpy as np\n",
        "arr = np.arange(1000000).reshape((1000,1000))\n",
        "%time arr = arr + 10"
      ],
      "execution_count": null,
      "outputs": [
        {
          "output_type": "stream",
          "text": [
            "CPU times: user 2.84 ms, sys: 3.69 ms, total: 6.53 ms\n",
            "Wall time: 8.26 ms\n"
          ],
          "name": "stdout"
        }
      ]
    },
    {
      "cell_type": "markdown",
      "metadata": {
        "id": "GsCpnahOilG2",
        "colab_type": "text"
      },
      "source": [
        "My results were\n",
        "\n",
        "    CPU times: user 1.26 ms, sys: 408 µs, total: 1.67 ms\n",
        "    Wall time: 1.68 ms\n",
        "\n",
        "So, depending on your computer, somewhere around 25 to 100 times faster. **That is phenomenally faster!**\n",
        "\n",
        "And Numpy is even fast in creating arrays:\n",
        "\n",
        "#### the generic Python way"
      ]
    },
    {
      "cell_type": "code",
      "metadata": {
        "id": "RATSsWs3ilG2",
        "colab_type": "code",
        "colab": {
          "base_uri": "https://localhost:8080/",
          "height": 51
        },
        "outputId": "8d88e470-c863-4223-e72c-ffdc5a418a61"
      },
      "source": [
        "%time a = [[x + y * 1000 for x in range(1000)] for y in range(1000)]"
      ],
      "execution_count": null,
      "outputs": [
        {
          "output_type": "stream",
          "text": [
            "CPU times: user 111 ms, sys: 29 ms, total: 140 ms\n",
            "Wall time: 146 ms\n"
          ],
          "name": "stdout"
        }
      ]
    },
    {
      "cell_type": "markdown",
      "metadata": {
        "id": "NkAi71_MilG8",
        "colab_type": "text"
      },
      "source": [
        "My results were\n",
        "\n",
        "    CPU times: user 92.1 ms, sys: 11.5 ms, total: 104 ms\n",
        "    Wall time: 102 ms\n",
        "\n",
        "#### the Numpy way"
      ]
    },
    {
      "cell_type": "code",
      "metadata": {
        "id": "rfJTO7j2ilG8",
        "colab_type": "code",
        "colab": {
          "base_uri": "https://localhost:8080/",
          "height": 51
        },
        "outputId": "d09a522f-b45c-4995-a6a2-c7bb0e4ebf27"
      },
      "source": [
        "%time arr = np.arange(1000000).reshape((1000,1000))"
      ],
      "execution_count": null,
      "outputs": [
        {
          "output_type": "stream",
          "text": [
            "CPU times: user 3.23 ms, sys: 5.4 ms, total: 8.64 ms\n",
            "Wall time: 9.42 ms\n"
          ],
          "name": "stdout"
        }
      ]
    },
    {
      "cell_type": "markdown",
      "metadata": {
        "id": "mWdHK-aOilHS",
        "colab_type": "text"
      },
      "source": [
        "What are your results?\n",
        "\n",
        "<h3 style=\"color:red\">Q1. Speed</h3>\n",
        "<span style=\"color:red\">Suppose I want to create an array with 10,000 by 10,000 cells. Then I want to add 1 to each cell. How much time does this take using generic Python arrays and using Numpy arrays?</span>\n",
        "\n",
        "#### in Python\n",
        "(be patient -- this may take a number of seconds)"
      ]
    },
    {
      "cell_type": "code",
      "metadata": {
        "id": "7oHbXHsfilHT",
        "colab_type": "code",
        "colab": {}
      },
      "source": [
        "a3 = [[x + y * 10000 for x in range(10000)] for y in range(10000)]\n"
      ],
      "execution_count": null,
      "outputs": []
    },
    {
      "cell_type": "code",
      "metadata": {
        "id": "xjW0DIEJmjb1",
        "colab_type": "code",
        "colab": {}
      },
      "source": [
        "def addQToArr(sizeof):\n",
        "    for i in range(sizeof):\n",
        "        for j in range(sizeof):\n",
        "            a3[i][j] = a3[i][j] + 1\n",
        "            "
      ],
      "execution_count": null,
      "outputs": []
    },
    {
      "cell_type": "code",
      "metadata": {
        "id": "cLq15vN8mqhK",
        "colab_type": "code",
        "colab": {
          "base_uri": "https://localhost:8080/",
          "height": 51
        },
        "outputId": "a12867ca-99d6-4ee6-fc89-cdfc19286121"
      },
      "source": [
        "%time addQToArr(10000)"
      ],
      "execution_count": null,
      "outputs": [
        {
          "output_type": "stream",
          "text": [
            "CPU times: user 12.6 s, sys: 605 µs, total: 12.6 s\n",
            "Wall time: 12.7 s\n"
          ],
          "name": "stdout"
        }
      ]
    },
    {
      "cell_type": "markdown",
      "metadata": {
        "id": "H-8dk5hznnrb",
        "colab_type": "text"
      },
      "source": [
        "CPU times: user 12.2 s, sys: 1.09 ms, total: 12.2 s\n",
        "Wall time: 12.2 s"
      ]
    },
    {
      "cell_type": "markdown",
      "metadata": {
        "id": "GhVuh-0qilHb",
        "colab_type": "text"
      },
      "source": [
        "#### in Numpy"
      ]
    },
    {
      "cell_type": "code",
      "metadata": {
        "id": "7tyjA0wailHd",
        "colab_type": "code",
        "colab": {
          "base_uri": "https://localhost:8080/",
          "height": 51
        },
        "outputId": "14f9ec68-4b27-40cd-89f3-e6458cf20186"
      },
      "source": [
        "arrQ = np.arange(100000000).reshape((10000,10000))\n",
        "%time arrQ = arrQ + 1"
      ],
      "execution_count": null,
      "outputs": [
        {
          "output_type": "stream",
          "text": [
            "CPU times: user 162 ms, sys: 446 ms, total: 608 ms\n",
            "Wall time: 609 ms\n"
          ],
          "name": "stdout"
        }
      ]
    },
    {
      "cell_type": "markdown",
      "metadata": {
        "id": "m1u1F9qboV9U",
        "colab_type": "text"
      },
      "source": [
        "CPU times: user 101 ms, sys: 369 ms, total: 470 ms\n",
        "Wall time: 470 ms"
      ]
    },
    {
      "cell_type": "markdown",
      "metadata": {
        "id": "Jd7-bhRzilHg",
        "colab_type": "text"
      },
      "source": [
        "### built in functions\n",
        "In addition to being faster, numpy has a wide range of built in functions. So, for example, instead of you writing code to calculate the mean or sum or standard deviation of a multidimensional array you can just use numpy:"
      ]
    },
    {
      "cell_type": "code",
      "metadata": {
        "id": "EO29g5uLilHg",
        "colab_type": "code",
        "colab": {
          "base_uri": "https://localhost:8080/",
          "height": 34
        },
        "outputId": "35bc889e-d074-4edd-d651-222cb4479444"
      },
      "source": [
        "arr.mean()"
      ],
      "execution_count": null,
      "outputs": [
        {
          "output_type": "execute_result",
          "data": {
            "text/plain": [
              "499999.5"
            ]
          },
          "metadata": {
            "tags": []
          },
          "execution_count": 42
        }
      ]
    },
    {
      "cell_type": "code",
      "metadata": {
        "id": "6jHZZqexilHp",
        "colab_type": "code",
        "colab": {
          "base_uri": "https://localhost:8080/",
          "height": 34
        },
        "outputId": "a67e827a-2364-42f8-fc4b-eb6e3514e423"
      },
      "source": [
        "arr.sum()"
      ],
      "execution_count": null,
      "outputs": [
        {
          "output_type": "execute_result",
          "data": {
            "text/plain": [
              "499999500000"
            ]
          },
          "metadata": {
            "tags": []
          },
          "execution_count": 43
        }
      ]
    },
    {
      "cell_type": "code",
      "metadata": {
        "id": "PRjQMp33ilHy",
        "colab_type": "code",
        "colab": {
          "base_uri": "https://localhost:8080/",
          "height": 34
        },
        "outputId": "c20efef5-77b6-4b18-85a1-da75ce28f1fb"
      },
      "source": [
        " arr.std()"
      ],
      "execution_count": null,
      "outputs": [
        {
          "output_type": "execute_result",
          "data": {
            "text/plain": [
              "288675.1345946685"
            ]
          },
          "metadata": {
            "tags": []
          },
          "execution_count": 45
        }
      ]
    },
    {
      "cell_type": "markdown",
      "metadata": {
        "id": "IscRXyc-ilH1",
        "colab_type": "text"
      },
      "source": [
        "So not only is it faster, but it minimizes the code you have to write. A win, win.\n",
        "\n",
        "Let's continue with some basics."
      ]
    },
    {
      "cell_type": "markdown",
      "metadata": {
        "id": "AnliMIibilH2",
        "colab_type": "text"
      },
      "source": [
        "## numpy examined \n",
        "So Numpy is a library containing a super-fast n-dimensional array object and a load of functions that can operate on those arrays. To use numpy, we must first load the library into our code and we do that with the statement:\n"
      ]
    },
    {
      "cell_type": "code",
      "metadata": {
        "id": "rc-hQnH6ilH2",
        "colab_type": "code",
        "colab": {}
      },
      "source": [
        " import numpy as np"
      ],
      "execution_count": null,
      "outputs": []
    },
    {
      "cell_type": "markdown",
      "metadata": {
        "id": "jbwZNTwHilH5",
        "colab_type": "text"
      },
      "source": [
        "Perhaps most of you are saying \"fine, fine, I know this already\", but let me catch others up to speed. This is just one of several ways we can load a library into Python. We could just say:"
      ]
    },
    {
      "cell_type": "code",
      "metadata": {
        "id": "J-lcaphZilH6",
        "colab_type": "code",
        "colab": {}
      },
      "source": [
        " import numpy"
      ],
      "execution_count": null,
      "outputs": []
    },
    {
      "cell_type": "markdown",
      "metadata": {
        "id": "G6IWMecTilH-",
        "colab_type": "text"
      },
      "source": [
        "and everytime we need to use one of the functions built in\n",
        "to numpy we would need to preface that function with `numpy` . So for example, we could create an array with\n"
      ]
    },
    {
      "cell_type": "code",
      "metadata": {
        "id": "_PTBnKS2ilH-",
        "colab_type": "code",
        "colab": {}
      },
      "source": [
        "arr = numpy.array([1, 2, 3, 4, 5])"
      ],
      "execution_count": null,
      "outputs": []
    },
    {
      "cell_type": "markdown",
      "metadata": {
        "id": "8ES7o9MMilIC",
        "colab_type": "text"
      },
      "source": [
        "If we got tired of writing `numpy` in front of every function, instead of typing"
      ]
    },
    {
      "cell_type": "code",
      "metadata": {
        "id": "yimVS3emilIC",
        "colab_type": "code",
        "colab": {}
      },
      "source": [
        "import numpy"
      ],
      "execution_count": null,
      "outputs": []
    },
    {
      "cell_type": "markdown",
      "metadata": {
        "id": "tdFSGxdIilIK",
        "colab_type": "text"
      },
      "source": [
        "we could write:"
      ]
    },
    {
      "cell_type": "code",
      "metadata": {
        "id": "w-qmB1XXilIL",
        "colab_type": "code",
        "colab": {}
      },
      "source": [
        "from numpy import *"
      ],
      "execution_count": null,
      "outputs": []
    },
    {
      "cell_type": "markdown",
      "metadata": {
        "id": "a8vsdzlNilIS",
        "colab_type": "text"
      },
      "source": [
        "(where that * means 'everything' and the whole expression means import everything from the numpy library).  Now we can use any numpy function without putting numpy in front of it:"
      ]
    },
    {
      "cell_type": "code",
      "metadata": {
        "id": "5JDc77HcilIT",
        "colab_type": "code",
        "colab": {}
      },
      "source": [
        "arr = array([1, 2, 3, 4, 5])"
      ],
      "execution_count": null,
      "outputs": []
    },
    {
      "cell_type": "markdown",
      "metadata": {
        "id": "BU-OzlxVilIY",
        "colab_type": "text"
      },
      "source": [
        "This may at first seem like a good idea, but it is considered bad form by Python developers. \n",
        "\n",
        "The solution is to use what we initially introduced:"
      ]
    },
    {
      "cell_type": "code",
      "metadata": {
        "id": "txu3Lp3uilIZ",
        "colab_type": "code",
        "colab": {}
      },
      "source": [
        " import numpy as np"
      ],
      "execution_count": null,
      "outputs": []
    },
    {
      "cell_type": "markdown",
      "metadata": {
        "id": "nV8b765WilIc",
        "colab_type": "text"
      },
      "source": [
        "this makes `np` an alias for numpy. so now we would put *np* in front of numpy functions."
      ]
    },
    {
      "cell_type": "code",
      "metadata": {
        "id": "hKAM4QD7ilId",
        "colab_type": "code",
        "colab": {}
      },
      "source": [
        " arr = np.array([1, 2, 3, 4, 5])"
      ],
      "execution_count": null,
      "outputs": []
    },
    {
      "cell_type": "markdown",
      "metadata": {
        "id": "xl2ryiImilIh",
        "colab_type": "text"
      },
      "source": [
        "Of course we could use anything as an alias for numpy:"
      ]
    },
    {
      "cell_type": "code",
      "metadata": {
        "id": "KbdLe5oeilIh",
        "colab_type": "code",
        "colab": {}
      },
      "source": [
        "import numpy as myCoolSneakers\n",
        "arr = myCoolSneakers.array([1, 2, 3, 4, 5])\n"
      ],
      "execution_count": null,
      "outputs": []
    },
    {
      "cell_type": "markdown",
      "metadata": {
        "id": "_ymB16aZilIo",
        "colab_type": "text"
      },
      "source": [
        "But it is convention among data scientists, machine learning experts, and the cool kids to use np.  One big benefit of this convention is that it makes the code you write more understandable to others and vice versa (I don't need to be scouring your code to find out what `myCoolSneakers.array` does)\n",
        "\n",
        "## creating arrays\n",
        "\n",
        "An Array in Numpy is called an `ndarray` for n-dimensional array.  As we will see, they share some similarities with Python lists. We have already seen how to create one:"
      ]
    },
    {
      "cell_type": "code",
      "metadata": {
        "id": "aCjeJ5qUilIp",
        "colab_type": "code",
        "colab": {}
      },
      "source": [
        "arr = np.array([1, 2, 3, 4, 5])"
      ],
      "execution_count": null,
      "outputs": []
    },
    {
      "cell_type": "markdown",
      "metadata": {
        "id": "e2ZYYDUoilIv",
        "colab_type": "text"
      },
      "source": [
        "and to display what `arr` equals"
      ]
    },
    {
      "cell_type": "code",
      "metadata": {
        "id": "1VcnaSWUilIy",
        "colab_type": "code",
        "colab": {
          "base_uri": "https://localhost:8080/",
          "height": 34
        },
        "outputId": "dda7bc5e-8e59-4508-d482-3d2d6d65a518"
      },
      "source": [
        "arr"
      ],
      "execution_count": null,
      "outputs": [
        {
          "output_type": "execute_result",
          "data": {
            "text/plain": [
              "array([1, 2, 3, 4, 5])"
            ]
          },
          "metadata": {
            "tags": []
          },
          "execution_count": 32
        }
      ]
    },
    {
      "cell_type": "markdown",
      "metadata": {
        "id": "eFqXoXY6ilI0",
        "colab_type": "text"
      },
      "source": [
        "This is a one dimensional array. The position of an element in the array is called the index. The first element of the array is at index 0, the next at index 1 and so on. We can get the item at a particular index by using the syntax:"
      ]
    },
    {
      "cell_type": "code",
      "metadata": {
        "id": "PSeD0K0milI1",
        "colab_type": "code",
        "colab": {
          "base_uri": "https://localhost:8080/",
          "height": 34
        },
        "outputId": "82fb610d-2f17-43e5-d103-73708108673d"
      },
      "source": [
        " arr[0]"
      ],
      "execution_count": null,
      "outputs": [
        {
          "output_type": "execute_result",
          "data": {
            "text/plain": [
              "1"
            ]
          },
          "metadata": {
            "tags": []
          },
          "execution_count": 33
        }
      ]
    },
    {
      "cell_type": "code",
      "metadata": {
        "id": "jOrDBwGvilI3",
        "colab_type": "code",
        "colab": {
          "base_uri": "https://localhost:8080/",
          "height": 34
        },
        "outputId": "976af786-c4b5-4136-e791-81fb9012a591"
      },
      "source": [
        "arr[3]"
      ],
      "execution_count": null,
      "outputs": [
        {
          "output_type": "execute_result",
          "data": {
            "text/plain": [
              "4"
            ]
          },
          "metadata": {
            "tags": []
          },
          "execution_count": 34
        }
      ]
    },
    {
      "cell_type": "markdown",
      "metadata": {
        "id": "qM2bWeNGilI6",
        "colab_type": "text"
      },
      "source": [
        "We can create a 2 dimensional array that looks like\n",
        "\n",
        "      10  20  30\n",
        "      40  50  60\n",
        " \n",
        "by:\n"
      ]
    },
    {
      "cell_type": "code",
      "metadata": {
        "id": "HtBH7KNYilI7",
        "colab_type": "code",
        "colab": {}
      },
      "source": [
        " arr = np.array([[10, 20, 30], [40, 50, 60]])"
      ],
      "execution_count": null,
      "outputs": []
    },
    {
      "cell_type": "markdown",
      "metadata": {
        "id": "iG-Nw0anilJC",
        "colab_type": "text"
      },
      "source": [
        "and we can show the contents of that array just be using the name of the array, `arr`\n"
      ]
    },
    {
      "cell_type": "code",
      "metadata": {
        "id": "tpzl1rf_ilJC",
        "colab_type": "code",
        "colab": {
          "base_uri": "https://localhost:8080/",
          "height": 51
        },
        "outputId": "34eae800-e112-4a18-8009-83627febfeb6"
      },
      "source": [
        "arr"
      ],
      "execution_count": null,
      "outputs": [
        {
          "output_type": "execute_result",
          "data": {
            "text/plain": [
              "array([[10, 20, 30],\n",
              "       [40, 50, 60]])"
            ]
          },
          "metadata": {
            "tags": []
          },
          "execution_count": 38
        }
      ]
    },
    {
      "cell_type": "markdown",
      "metadata": {
        "id": "D-vhWQy0ilJE",
        "colab_type": "text"
      },
      "source": [
        "We don't need to name arrays `arr`, we can name them anything we want. "
      ]
    },
    {
      "cell_type": "code",
      "metadata": {
        "id": "umeS2MdtilJG",
        "colab_type": "code",
        "colab": {}
      },
      "source": [
        "ratings = np.array([[1, 2, 3], [4, 5, 6], [7, 8, 9]])"
      ],
      "execution_count": null,
      "outputs": []
    },
    {
      "cell_type": "code",
      "metadata": {
        "id": "3m0sK1ZwilJK",
        "colab_type": "code",
        "colab": {
          "base_uri": "https://localhost:8080/",
          "height": 68
        },
        "outputId": "5df20923-cb62-4fd2-f411-b05ff8197d36"
      },
      "source": [
        "ratings"
      ],
      "execution_count": null,
      "outputs": [
        {
          "output_type": "execute_result",
          "data": {
            "text/plain": [
              "array([[1, 2, 3],\n",
              "       [4, 5, 6],\n",
              "       [7, 8, 9]])"
            ]
          },
          "metadata": {
            "tags": []
          },
          "execution_count": 40
        }
      ]
    },
    {
      "cell_type": "markdown",
      "metadata": {
        "id": "HaMf1zNFilJO",
        "colab_type": "text"
      },
      "source": [
        "So far, we've been creating numpy arrays by using Python lists. We can make that more explicit by first creating the Python list and then using it to create the ndarray:"
      ]
    },
    {
      "cell_type": "code",
      "metadata": {
        "id": "3Ys13S1qilJP",
        "colab_type": "code",
        "colab": {
          "base_uri": "https://localhost:8080/",
          "height": 51
        },
        "outputId": "4aecc90a-3aa1-4bd7-804f-b192dd0521c7"
      },
      "source": [
        "pythonArray = [[1, 2, 3, 4, 5], [6, 7, 8, 9, 10]]\n",
        "sweet = np.array(pythonArray)\n",
        "sweet"
      ],
      "execution_count": null,
      "outputs": [
        {
          "output_type": "execute_result",
          "data": {
            "text/plain": [
              "array([[ 1,  2,  3,  4,  5],\n",
              "       [ 6,  7,  8,  9, 10]])"
            ]
          },
          "metadata": {
            "tags": []
          },
          "execution_count": 41
        }
      ]
    },
    {
      "cell_type": "markdown",
      "metadata": {
        "id": "SwdLm8TQilJT",
        "colab_type": "text"
      },
      "source": [
        "We can also create an array of all zeros or all ones directly:"
      ]
    },
    {
      "cell_type": "code",
      "metadata": {
        "id": "D58Z1q2ailJT",
        "colab_type": "code",
        "colab": {
          "base_uri": "https://localhost:8080/",
          "height": 34
        },
        "outputId": "417aee10-abb0-440a-c97c-b3e29d2ef742"
      },
      "source": [
        "np.zeros(10)"
      ],
      "execution_count": null,
      "outputs": [
        {
          "output_type": "execute_result",
          "data": {
            "text/plain": [
              "array([0., 0., 0., 0., 0., 0., 0., 0., 0., 0.])"
            ]
          },
          "metadata": {
            "tags": []
          },
          "execution_count": 3
        }
      ]
    },
    {
      "cell_type": "code",
      "metadata": {
        "id": "M_UlWqL1WXKP",
        "colab_type": "code",
        "colab": {
          "base_uri": "https://localhost:8080/",
          "height": 34
        },
        "outputId": "27fdff43-5f0f-488d-b4eb-ca1a15ffb281"
      },
      "source": [
        "np.zeros(15)"
      ],
      "execution_count": null,
      "outputs": [
        {
          "output_type": "execute_result",
          "data": {
            "text/plain": [
              "array([0., 0., 0., 0., 0., 0., 0., 0., 0., 0., 0., 0., 0., 0., 0.])"
            ]
          },
          "metadata": {
            "tags": []
          },
          "execution_count": 2
        }
      ]
    },
    {
      "cell_type": "code",
      "metadata": {
        "id": "FqA-9H5bilJe",
        "colab_type": "code",
        "colab": {
          "base_uri": "https://localhost:8080/",
          "height": 102
        },
        "outputId": "11fc468a-e109-446b-dbcf-86f42f5332e8"
      },
      "source": [
        "np.ones((5, 2))"
      ],
      "execution_count": null,
      "outputs": [
        {
          "output_type": "execute_result",
          "data": {
            "text/plain": [
              "array([[1., 1.],\n",
              "       [1., 1.],\n",
              "       [1., 1.],\n",
              "       [1., 1.],\n",
              "       [1., 1.]])"
            ]
          },
          "metadata": {
            "tags": []
          },
          "execution_count": 4
        }
      ]
    },
    {
      "cell_type": "code",
      "metadata": {
        "id": "2-968EZhWl35",
        "colab_type": "code",
        "colab": {
          "base_uri": "https://localhost:8080/",
          "height": 68
        },
        "outputId": "33f0a810-d2c5-4644-918c-82ed12f9c88d"
      },
      "source": [
        "np.ones((3,4))"
      ],
      "execution_count": null,
      "outputs": [
        {
          "output_type": "execute_result",
          "data": {
            "text/plain": [
              "array([[1., 1., 1., 1.],\n",
              "       [1., 1., 1., 1.],\n",
              "       [1., 1., 1., 1.]])"
            ]
          },
          "metadata": {
            "tags": []
          },
          "execution_count": 3
        }
      ]
    },
    {
      "cell_type": "markdown",
      "metadata": {
        "id": "pgGnVDWNilJm",
        "colab_type": "text"
      },
      "source": [
        "### indexing\n",
        "Indexing elements in ndarrays works pretty much the same as it does in Python. We have already seen one example, here is another example with a one dimensional array:\n"
      ]
    },
    {
      "cell_type": "code",
      "metadata": {
        "id": "nvdHoUPeilJm",
        "colab_type": "code",
        "colab": {
          "base_uri": "https://localhost:8080/",
          "height": 34
        },
        "outputId": "e1d37496-bb4b-437f-e560-6ec06564a63a"
      },
      "source": [
        "temperatures = np.array([48, 44, 37, 35, 32, 29, 33, 36, 42])\n",
        "temperatures[0]"
      ],
      "execution_count": null,
      "outputs": [
        {
          "output_type": "execute_result",
          "data": {
            "text/plain": [
              "48"
            ]
          },
          "metadata": {
            "tags": []
          },
          "execution_count": 4
        }
      ]
    },
    {
      "cell_type": "code",
      "metadata": {
        "id": "sbxvvvh4ilJu",
        "colab_type": "code",
        "colab": {},
        "outputId": "0a1759a0-f3bb-4e55-8c24-955996da03a7"
      },
      "source": [
        "temperatures[3]"
      ],
      "execution_count": null,
      "outputs": [
        {
          "output_type": "execute_result",
          "data": {
            "text/plain": [
              "35"
            ]
          },
          "metadata": {
            "tags": []
          },
          "execution_count": 59
        }
      ]
    },
    {
      "cell_type": "markdown",
      "metadata": {
        "id": "2zcjhVm6ilJz",
        "colab_type": "text"
      },
      "source": [
        "and a two dimensional one:"
      ]
    },
    {
      "cell_type": "code",
      "metadata": {
        "id": "SCX9oXVrilJ0",
        "colab_type": "code",
        "colab": {},
        "outputId": "59b0f046-b296-470a-aa7e-4de098230656"
      },
      "source": [
        "sample = np.array([[10, 20, 30], [40, 50, 60]])\n",
        "sample[0][1]"
      ],
      "execution_count": null,
      "outputs": [
        {
          "output_type": "execute_result",
          "data": {
            "text/plain": [
              "20"
            ]
          },
          "metadata": {
            "tags": []
          },
          "execution_count": 60
        }
      ]
    },
    {
      "cell_type": "markdown",
      "metadata": {
        "id": "9G68IUYsilJ8",
        "colab_type": "text"
      },
      "source": [
        "For numpy ndarrays we can also use a comma to separate the indices of multi-dimensional arrays:"
      ]
    },
    {
      "cell_type": "code",
      "metadata": {
        "id": "p7afSGNWilJ8",
        "colab_type": "code",
        "colab": {},
        "outputId": "9b6b60eb-3886-4675-d68b-1f98fbedbf72"
      },
      "source": [
        "sample[1,2]"
      ],
      "execution_count": null,
      "outputs": [
        {
          "output_type": "execute_result",
          "data": {
            "text/plain": [
              "60"
            ]
          },
          "metadata": {
            "tags": []
          },
          "execution_count": 61
        }
      ]
    },
    {
      "cell_type": "markdown",
      "metadata": {
        "id": "CFYv7LRXilJ_",
        "colab_type": "text"
      },
      "source": [
        "And, like Python you can also get a slice of an array. First, here is the basic Python example:"
      ]
    },
    {
      "cell_type": "code",
      "metadata": {
        "id": "pBJX1HWDilJ_",
        "colab_type": "code",
        "colab": {
          "base_uri": "https://localhost:8080/",
          "height": 34
        },
        "outputId": "4caa3f08-ff99-4b56-b958-6746393fc2db"
      },
      "source": [
        "a = [10, 20, 30, 40, 50, 60]\n",
        "b = a[1:4]\n",
        "b"
      ],
      "execution_count": null,
      "outputs": [
        {
          "output_type": "execute_result",
          "data": {
            "text/plain": [
              "[20, 30, 40]"
            ]
          },
          "metadata": {
            "tags": []
          },
          "execution_count": 10
        }
      ]
    },
    {
      "cell_type": "markdown",
      "metadata": {
        "id": "HJQi0xMwilKE",
        "colab_type": "text"
      },
      "source": [
        "and the similar numpy example:"
      ]
    },
    {
      "cell_type": "code",
      "metadata": {
        "id": "lovgBvdnilKF",
        "colab_type": "code",
        "colab": {
          "base_uri": "https://localhost:8080/",
          "height": 34
        },
        "outputId": "568d88ed-1125-4765-e601-4669ba11b811"
      },
      "source": [
        "aarr = np.array(a)\n",
        "barr = aarr[1:4]\n",
        "barr"
      ],
      "execution_count": null,
      "outputs": [
        {
          "output_type": "execute_result",
          "data": {
            "text/plain": [
              "array([20, 30, 40])"
            ]
          },
          "metadata": {
            "tags": []
          },
          "execution_count": 8
        }
      ]
    },
    {
      "cell_type": "markdown",
      "metadata": {
        "id": "Oht8jhTQilKT",
        "colab_type": "text"
      },
      "source": [
        "### Something  wacky to remember\n",
        "But there is a difference between Python arrays and numpy ndarrays. If I alter the array `b` in Python the orginal `a` array is not altered:"
      ]
    },
    {
      "cell_type": "code",
      "metadata": {
        "id": "VXLpApCbilKT",
        "colab_type": "code",
        "colab": {}
      },
      "source": [
        "b[1] = b[1] + 5"
      ],
      "execution_count": null,
      "outputs": []
    },
    {
      "cell_type": "code",
      "metadata": {
        "id": "9M31eD_YilKX",
        "colab_type": "code",
        "colab": {
          "base_uri": "https://localhost:8080/",
          "height": 34
        },
        "outputId": "de350b85-3c51-402c-9aff-f6a88ab107dc"
      },
      "source": [
        "b"
      ],
      "execution_count": null,
      "outputs": [
        {
          "output_type": "execute_result",
          "data": {
            "text/plain": [
              "[20, 35, 40]"
            ]
          },
          "metadata": {
            "tags": []
          },
          "execution_count": 12
        }
      ]
    },
    {
      "cell_type": "code",
      "metadata": {
        "id": "bmGuky0VilKZ",
        "colab_type": "code",
        "colab": {
          "base_uri": "https://localhost:8080/",
          "height": 34
        },
        "outputId": "57111a7d-6069-4945-929b-007cf6d41daf"
      },
      "source": [
        "a"
      ],
      "execution_count": null,
      "outputs": [
        {
          "output_type": "execute_result",
          "data": {
            "text/plain": [
              "[10, 20, 30, 40, 50, 60]"
            ]
          },
          "metadata": {
            "tags": []
          },
          "execution_count": 13
        }
      ]
    },
    {
      "cell_type": "markdown",
      "metadata": {
        "id": "UBg7If1DilKe",
        "colab_type": "text"
      },
      "source": [
        "but if we do the same in numpy:"
      ]
    },
    {
      "cell_type": "code",
      "metadata": {
        "id": "S6HikrvYilKf",
        "colab_type": "code",
        "colab": {}
      },
      "source": [
        "barr[1] = barr[1] + 5"
      ],
      "execution_count": null,
      "outputs": []
    },
    {
      "cell_type": "code",
      "metadata": {
        "id": "HchHcm3RilKo",
        "colab_type": "code",
        "colab": {
          "base_uri": "https://localhost:8080/",
          "height": 34
        },
        "outputId": "62529537-ea9f-4aca-c442-24de518848ab"
      },
      "source": [
        "barr"
      ],
      "execution_count": null,
      "outputs": [
        {
          "output_type": "execute_result",
          "data": {
            "text/plain": [
              "array([20, 35, 40])"
            ]
          },
          "metadata": {
            "tags": []
          },
          "execution_count": 15
        }
      ]
    },
    {
      "cell_type": "code",
      "metadata": {
        "id": "mp1qpeEBilKu",
        "colab_type": "code",
        "colab": {
          "base_uri": "https://localhost:8080/",
          "height": 34
        },
        "outputId": "61b87c79-b2f6-40ab-c002-31cb8dd022bf"
      },
      "source": [
        "aarr"
      ],
      "execution_count": null,
      "outputs": [
        {
          "output_type": "execute_result",
          "data": {
            "text/plain": [
              "array([10, 20, 35, 40, 50, 60])"
            ]
          },
          "metadata": {
            "tags": []
          },
          "execution_count": 16
        }
      ]
    },
    {
      "cell_type": "markdown",
      "metadata": {
        "id": "ZNt0fhMYilK8",
        "colab_type": "text"
      },
      "source": [
        "we see that the original array is altered since we modified the slice. This may seem wacky to you, or maybe it doesn't. In any case, it is something you will get used to. For now, just be aware of this. \n",
        "\n",
        "## functions on arrays\n",
        "\n",
        "Numpy has a wide range of array functons. Here is just a sample.\n",
        "\n",
        "### Unary functions\n",
        "\n",
        "#### absolute value"
      ]
    },
    {
      "cell_type": "code",
      "metadata": {
        "id": "NVPpECLZilK9",
        "colab_type": "code",
        "colab": {
          "base_uri": "https://localhost:8080/",
          "height": 34
        },
        "outputId": "edb37fee-350a-425f-858d-6f1cc54c6b3e"
      },
      "source": [
        "arr = np.array([-2, 12, -25, 0])\n",
        "arr2 = np.abs(arr)\n",
        "arr2"
      ],
      "execution_count": null,
      "outputs": [
        {
          "output_type": "execute_result",
          "data": {
            "text/plain": [
              "array([ 2, 12, 25,  0])"
            ]
          },
          "metadata": {
            "tags": []
          },
          "execution_count": 17
        }
      ]
    },
    {
      "cell_type": "code",
      "metadata": {
        "id": "a887I2PLilLC",
        "colab_type": "code",
        "colab": {},
        "outputId": "34ce1191-683f-4ada-f840-a680d6d0ec0f"
      },
      "source": [
        "arr = np.array([[-2, 12], [-25, 0]])\n",
        "arr2 = np.abs(arr)\n",
        "arr2               "
      ],
      "execution_count": null,
      "outputs": [
        {
          "output_type": "execute_result",
          "data": {
            "text/plain": [
              "array([[ 2, 12],\n",
              "       [25,  0]])"
            ]
          },
          "metadata": {
            "tags": []
          },
          "execution_count": 91
        }
      ]
    },
    {
      "cell_type": "markdown",
      "metadata": {
        "id": "INPYjcuVilLH",
        "colab_type": "text"
      },
      "source": [
        "#### square"
      ]
    },
    {
      "cell_type": "code",
      "metadata": {
        "id": "YP2gH5Z9ilLI",
        "colab_type": "code",
        "colab": {
          "base_uri": "https://localhost:8080/",
          "height": 34
        },
        "outputId": "e63d1ff6-b105-452b-bacd-de8edc39a13a"
      },
      "source": [
        "arr = np.array([-1, 2, -3, 4])\n",
        "arr2 = np.square(arr)\n",
        "arr2"
      ],
      "execution_count": null,
      "outputs": [
        {
          "output_type": "execute_result",
          "data": {
            "text/plain": [
              "array([ 1,  4,  9, 16])"
            ]
          },
          "metadata": {
            "tags": []
          },
          "execution_count": 18
        }
      ]
    },
    {
      "cell_type": "markdown",
      "metadata": {
        "id": "Yz34ON0XilLL",
        "colab_type": "text"
      },
      "source": [
        "#### squareroot"
      ]
    },
    {
      "cell_type": "code",
      "metadata": {
        "id": "eDJCzIzYilLL",
        "colab_type": "code",
        "colab": {},
        "outputId": "10c6c6f8-13cd-4a2b-fd8e-64c623c768d6"
      },
      "source": [
        "arr = np.array([[4, 9], [16, 25]])\n",
        "arr2 = np.sqrt(arr)\n",
        "arr2"
      ],
      "execution_count": null,
      "outputs": [
        {
          "output_type": "execute_result",
          "data": {
            "text/plain": [
              "array([[ 2.,  3.],\n",
              "       [ 4.,  5.]])"
            ]
          },
          "metadata": {
            "tags": []
          },
          "execution_count": 7
        }
      ]
    },
    {
      "cell_type": "markdown",
      "metadata": {
        "id": "1ym5-nwmilLP",
        "colab_type": "text"
      },
      "source": [
        "## Binary functions\n",
        "\n",
        "#### add /subtract / multiply / divide\n"
      ]
    },
    {
      "cell_type": "code",
      "metadata": {
        "id": "OOrBH2lTilLP",
        "colab_type": "code",
        "colab": {},
        "outputId": "7e13fc19-1fee-4695-df12-af391723fd4f"
      },
      "source": [
        "arr1 = np.array([[10, 20], [30, 40]])\n",
        "arr2 = np.array([[1, 2], [3, 4]])\n",
        "np.add(arr1, arr2)"
      ],
      "execution_count": null,
      "outputs": [
        {
          "output_type": "execute_result",
          "data": {
            "text/plain": [
              "array([[11, 22],\n",
              "       [33, 44]])"
            ]
          },
          "metadata": {
            "tags": []
          },
          "execution_count": 11
        }
      ]
    },
    {
      "cell_type": "code",
      "metadata": {
        "id": "4GtaitXWilLV",
        "colab_type": "code",
        "colab": {},
        "outputId": "c1d95118-441a-476e-941d-2031b00ec1c8"
      },
      "source": [
        "np.subtract(arr1, arr2)"
      ],
      "execution_count": null,
      "outputs": [
        {
          "output_type": "execute_result",
          "data": {
            "text/plain": [
              "array([[ 9, 18],\n",
              "       [27, 36]])"
            ]
          },
          "metadata": {
            "tags": []
          },
          "execution_count": 12
        }
      ]
    },
    {
      "cell_type": "code",
      "metadata": {
        "id": "44x1ljqOilLb",
        "colab_type": "code",
        "colab": {},
        "outputId": "a375af8d-54d2-4784-f5ee-5bfce01db311"
      },
      "source": [
        "np.multiply(arr1, arr2)"
      ],
      "execution_count": null,
      "outputs": [
        {
          "output_type": "execute_result",
          "data": {
            "text/plain": [
              "array([[ 10,  40],\n",
              "       [ 90, 160]])"
            ]
          },
          "metadata": {
            "tags": []
          },
          "execution_count": 13
        }
      ]
    },
    {
      "cell_type": "code",
      "metadata": {
        "id": "aIoZZ9v8ilLe",
        "colab_type": "code",
        "colab": {},
        "outputId": "db565136-1c25-4f91-d321-a77f6c061d9c"
      },
      "source": [
        "np.divide(arr1, arr2)"
      ],
      "execution_count": null,
      "outputs": [
        {
          "output_type": "execute_result",
          "data": {
            "text/plain": [
              "array([[ 10.,  10.],\n",
              "       [ 10.,  10.]])"
            ]
          },
          "metadata": {
            "tags": []
          },
          "execution_count": 14
        }
      ]
    },
    {
      "cell_type": "markdown",
      "metadata": {
        "id": "LUDkWGB6ilLh",
        "colab_type": "text"
      },
      "source": [
        "#### maximum / minimum\n"
      ]
    },
    {
      "cell_type": "code",
      "metadata": {
        "id": "xHy3a_rYilLi",
        "colab_type": "code",
        "colab": {
          "base_uri": "https://localhost:8080/",
          "height": 51
        },
        "outputId": "cbb18e66-018d-4621-afdd-b35f1f16dd1a"
      },
      "source": [
        "arr1 = np.array([[10, 2], [3, 40]])\n",
        "arr2 = np.array([[1, 20], [30, 4]])\n",
        "np.maximum(arr1, arr2)"
      ],
      "execution_count": null,
      "outputs": [
        {
          "output_type": "execute_result",
          "data": {
            "text/plain": [
              "array([[10, 20],\n",
              "       [30, 40]])"
            ]
          },
          "metadata": {
            "tags": []
          },
          "execution_count": 19
        }
      ]
    },
    {
      "cell_type": "markdown",
      "metadata": {
        "id": "OOOMgwbnilLk",
        "colab_type": "text"
      },
      "source": [
        "#### these are just examples. There are more unary and binary functions"
      ]
    },
    {
      "cell_type": "markdown",
      "metadata": {
        "id": "ocSQWYDLilLl",
        "colab_type": "text"
      },
      "source": [
        "## Numpy Uber\n",
        "lets say I have Uber drivers at various intersections around Austin. I will represent that as a set of x,y coordinates.\n",
        "\n",
        " | Driver |xPos | yPos |\n",
        " | :---: | :---: | :---: |\n",
        " | Ann | 4 | 5 |\n",
        " | Clara | 6 | 6 |\n",
        " | Dora | 3 | 1 |\n",
        " | Erica | 9 | 5 |\n",
        " \n",
        " \n",
        " Now I would like to find the closest driver to a customer who is at 6, 3.\n",
        " And to further define *closest* I am going to use what is called **Manhattan Distance**. Roughly put, Manhattan distance is distance if you followed streets. Ann, for example, is two blocks West of our customer and two blocks north. So the Manhattan distance from Ann to our customer is `2+2` or `4`. \n",
        " \n",
        " First, to make things easy (and because the data in a numpy array must be of the same type), I will represent the x and y positions in one numpy array and the driver names in another:"
      ]
    },
    {
      "cell_type": "code",
      "metadata": {
        "id": "c22LXVQAilLm",
        "colab_type": "code",
        "colab": {
          "base_uri": "https://localhost:8080/",
          "height": 85
        },
        "outputId": "d80bc261-31d9-4dbe-8d61-e610318dc825"
      },
      "source": [
        "locations = np.array([[4, 5], [6, 6], [3, 1], [9,5]])\n",
        "locations"
      ],
      "execution_count": null,
      "outputs": [
        {
          "output_type": "execute_result",
          "data": {
            "text/plain": [
              "array([[4, 5],\n",
              "       [6, 6],\n",
              "       [3, 1],\n",
              "       [9, 5]])"
            ]
          },
          "metadata": {
            "tags": []
          },
          "execution_count": 21
        }
      ]
    },
    {
      "cell_type": "code",
      "metadata": {
        "id": "6P5LZ40ZilLo",
        "colab_type": "code",
        "colab": {}
      },
      "source": [
        "drivers = np.array([\"Ann\", \"Clara\", \"Dora\", \"Erica\"])"
      ],
      "execution_count": null,
      "outputs": []
    },
    {
      "cell_type": "markdown",
      "metadata": {
        "id": "sapdObuwilLq",
        "colab_type": "text"
      },
      "source": [
        "Our customer is at"
      ]
    },
    {
      "cell_type": "code",
      "metadata": {
        "id": "m8F-D3a5ilLq",
        "colab_type": "code",
        "colab": {}
      },
      "source": [
        "cust = np.array([6, 3])"
      ],
      "execution_count": null,
      "outputs": []
    },
    {
      "cell_type": "markdown",
      "metadata": {
        "id": "L3SH_2jYilLy",
        "colab_type": "text"
      },
      "source": [
        "now we are going to figure out the distance between each of our drivers and the customer"
      ]
    },
    {
      "cell_type": "code",
      "metadata": {
        "id": "tZVmuE82ilLz",
        "colab_type": "code",
        "colab": {
          "base_uri": "https://localhost:8080/",
          "height": 85
        },
        "outputId": "ff672dc9-65c5-4e9a-caf1-3968b9a589bb"
      },
      "source": [
        "xydiff = locations - cust\n",
        "xydiff"
      ],
      "execution_count": null,
      "outputs": [
        {
          "output_type": "execute_result",
          "data": {
            "text/plain": [
              "array([[-2,  2],\n",
              "       [ 0,  3],\n",
              "       [-3, -2],\n",
              "       [ 3,  2]])"
            ]
          },
          "metadata": {
            "tags": []
          },
          "execution_count": 23
        }
      ]
    },
    {
      "cell_type": "markdown",
      "metadata": {
        "id": "9YVsEwozilL3",
        "colab_type": "text"
      },
      "source": [
        "NOTE: displaying the results with `xydiff` isn't a necessary step. I just like seeing intermediate results.\n",
        "\n",
        "Ok. now I am goint to sum the absolute values:"
      ]
    },
    {
      "cell_type": "code",
      "metadata": {
        "id": "NyOq6hquilL3",
        "colab_type": "code",
        "colab": {
          "base_uri": "https://localhost:8080/",
          "height": 34
        },
        "outputId": "fb030fa0-d498-4e9e-daad-94a678ef0156"
      },
      "source": [
        "distances =np.abs(xydiff).sum(axis = 1)\n",
        "distances"
      ],
      "execution_count": null,
      "outputs": [
        {
          "output_type": "execute_result",
          "data": {
            "text/plain": [
              "array([4, 3, 5, 5])"
            ]
          },
          "metadata": {
            "tags": []
          },
          "execution_count": 24
        }
      ]
    },
    {
      "cell_type": "markdown",
      "metadata": {
        "id": "k8WhRN2ailL8",
        "colab_type": "text"
      },
      "source": [
        "So the output is the array `[4, 3, 5, 5]` which shows that Ann is 4 away from our customer; Clara is 3 away and so on.\n",
        "\n",
        "Now I am going to sort these using `argsort`:"
      ]
    },
    {
      "cell_type": "code",
      "metadata": {
        "id": "Jx_XCt6RilL8",
        "colab_type": "code",
        "colab": {
          "base_uri": "https://localhost:8080/",
          "height": 34
        },
        "outputId": "55a15864-a2cd-4962-d003-526946f643ea"
      },
      "source": [
        "sorted = np.argsort(distances)\n",
        "sorted"
      ],
      "execution_count": null,
      "outputs": [
        {
          "output_type": "execute_result",
          "data": {
            "text/plain": [
              "array([1, 0, 2, 3])"
            ]
          },
          "metadata": {
            "tags": []
          },
          "execution_count": 25
        }
      ]
    },
    {
      "cell_type": "markdown",
      "metadata": {
        "id": "dC5c9Jl5ilL_",
        "colab_type": "text"
      },
      "source": [
        "`argsort` returns an array of sorted indices. So the element at position 1 is the smallest followed by the element at position 0 and so on.\n",
        "\n",
        "Next, I am going to get the first element of that array (in this case 1) and find the name of the driver at that position in the `drivers` array"
      ]
    },
    {
      "cell_type": "code",
      "metadata": {
        "id": "BVTYuw9AilMA",
        "colab_type": "code",
        "colab": {
          "base_uri": "https://localhost:8080/",
          "height": 35
        },
        "outputId": "6dcd80ce-d5fe-4d1a-f9bf-68f4af0b0c57"
      },
      "source": [
        "drivers[sorted[0]]"
      ],
      "execution_count": null,
      "outputs": [
        {
          "output_type": "execute_result",
          "data": {
            "application/vnd.google.colaboratory.intrinsic+json": {
              "type": "string"
            },
            "text/plain": [
              "'Clara'"
            ]
          },
          "metadata": {
            "tags": []
          },
          "execution_count": 26
        }
      ]
    },
    {
      "cell_type": "markdown",
      "metadata": {
        "id": "d-NqpecSilMJ",
        "colab_type": "text"
      },
      "source": [
        "<h3 style=\"color:red\">Q2. You Try</h3>\n",
        "<span style=\"color:red\">Can you put all the above in a function. that takes 3 arguments, the location array, the array containing the names of the drivers, and the array containing the location of the customer. It should return the name of the closest driver.</span>\n"
      ]
    },
    {
      "cell_type": "code",
      "metadata": {
        "id": "dCEXYiOcilMK",
        "colab_type": "code",
        "colab": {
          "base_uri": "https://localhost:8080/",
          "height": 34
        },
        "outputId": "904cbc19-725e-462c-b55c-a25880aa2bec"
      },
      "source": [
        "def findDriver(distanceArr, driversArr, customerArr):\n",
        "   result = ''\n",
        "   xydiff2 = distanceArr - customerArr\n",
        "   distance2 = np.abs(xydiff2).sum(axis = 1)\n",
        "   sorted2 = np.argsort(distance2)\n",
        "   result = driversArr[sorted2[0]]### put your code here\n",
        "   return result\n",
        "print(findDriver(locations, drivers, cust)) # this should return Clara"
      ],
      "execution_count": null,
      "outputs": [
        {
          "output_type": "stream",
          "text": [
            "Clara\n"
          ],
          "name": "stdout"
        }
      ]
    },
    {
      "cell_type": "markdown",
      "metadata": {
        "id": "geWKnCHKilMM",
        "colab_type": "text"
      },
      "source": [
        "### CONGRATULATIONS\n",
        "\n",
        "Even though this is just an intro to Numpy, I am going to throw some math at you. So far we have been looking at a two dimensional example, x and y (or North-South and East-West) and our distance formula for the distance, Dist between Ann, A and Customer C is\n",
        "\n",
        "$$ DIST_{AC} = |A_x - C_x | + |A_y - C_y | $$\n",
        "\n",
        "Now I am going to warp this a bit. In this example, each driver is represented by an array (as is the customer) So, Ann is represented by `[1,2]` and the customer by `[3,4]`. So Ann's 0th element is 1 and the customer's 0th element is 3. And, sorry, computer science people start counting at 0 but math people (and all other normal people) start at 1 so we  can rewrite the above formula as:\n",
        "\n",
        "$$ DIST_{AC} = |A_1 - C_1 | + |A_2 - C_2 | $$\n",
        "\n",
        "That's the distance formula for Ann and the Customer. We can make the formula by saying the distance between and two people, let's call them *x* and *y* is\n",
        "\n",
        "\n",
        "$$ DIST_{xy} = |x_1 - y_1 | + |x_2 - y_2 | $$\n",
        "\n",
        "That is the formula for  2 dimensional Manhattan Distance. We can imagine a three dimensional case.  \n",
        "\n",
        "$$ DIST_{xy} = |x_1 - y_1 | + |x_2 - y_2 | + |x_3 - y_3 | $$\n",
        "\n",
        "and we can generalize the formula to the n-dimensional case.\n",
        " \n",
        "$$ DIST_{xy}=\\sum_{i=1}^n |x_i - y_i| $$\n",
        "\n",
        "Just in time for a five dimensional example:\n",
        "\n",
        "\n",
        "# The Amazing 5D Music example\n",
        "\n",
        "Guests went into a listening booth and rated the following tunes:\n",
        "\n",
        "* [Janelle Monae Tightrope](https://www.youtube.com/watch?v=pwnefUaKCbc)\n",
        "* [Major Lazer - Cold Water](https://www.youtube.com/watch?v=nBtDsQ4fhXY)\n",
        "* [Tim McGraw - Humble & Kind](https://www.youtube.com/watch?v=awzNHuGqoMc)\n",
        "* [Maren Morris - My Church](https://www.youtube.com/watch?v=ouWQ25O-Mcg)\n",
        "* [Hailee Steinfeld - Starving](https://www.youtube.com/watch?v=xwjwCFZpdns)\n",
        "\n",
        "\n",
        "Here are the results:\n",
        "\n",
        "| Guest  | Janelle Monae  | Major Lazer  | Tim McGraw  |  Maren Morris | Hailee Steinfeld| \n",
        "|---|---|---|---|---|---|\n",
        "|  Ann | 4  |  5 | 2  |  1 | 3 |\n",
        "| Ben  |  3 |  1 |  5 | 4  | 2|\n",
        "| Jordyn  | 5  |  5 | 2  | 2  | 3|\n",
        "|  Sam | 4 | 1 | 4 | 4 | 1|\n",
        "| Hyunseo | 1 | 1 | 5 | 4 | 1 |\n",
        "| Ahmed | 4 | 5 | 3 |  3 | 1 |\n",
        "\n",
        "So Ann, for example, really liked Major Lazer and Janelle Monae but didn't care much for Maren Morris.\n",
        "\n",
        "Let's set up a few numpy arrays.\n"
      ]
    },
    {
      "cell_type": "code",
      "metadata": {
        "id": "I8G612loilMM",
        "colab_type": "code",
        "colab": {}
      },
      "source": [
        "customers = np.array([[4, 5, 2, 1, 3],\n",
        "                      [3, 1, 5, 4, 2],\n",
        "                      [5, 5, 2, 2, 3],\n",
        "                      [4, 1, 4, 4, 1], \n",
        "                      [1, 1, 5, 4, 1],\n",
        "                      [4, 5, 3, 3, 1]])\n",
        "\n",
        "customerNames = np.array([\"Ann\", \"Ben\", 'Jordyn', \"Sam\", \"Hyunseo\", \"Ahmed\"])\n",
        "\n"
      ],
      "execution_count": null,
      "outputs": []
    },
    {
      "cell_type": "markdown",
      "metadata": {
        "id": "5oxK7TE6ilMP",
        "colab_type": "text"
      },
      "source": [
        "Now let's set up a few new customers:"
      ]
    },
    {
      "cell_type": "code",
      "metadata": {
        "id": "UmY846QnilMQ",
        "colab_type": "code",
        "colab": {}
      },
      "source": [
        "mikaela = np.array([3, 2, 4, 5, 4])\n",
        "brandon = np.array([4, 5, 1, 2, 3])"
      ],
      "execution_count": null,
      "outputs": []
    },
    {
      "cell_type": "markdown",
      "metadata": {
        "id": "Z8jWrccLilMh",
        "colab_type": "text"
      },
      "source": [
        "Now we would like to determine  which of our current customers is closest to Mikaela and which to Brandon.\n",
        "<h3 style=\"color:red\">Q3. You Try</h3>\n",
        "<span style=\"color:red\">Can you write a function findClosest that takes 3 arguments: customers, customerNames, and an array representing one customer's ratings and returns the name of the closest customer?</span>\n",
        "\n",
        "Let's break this down a bit.\n",
        "\n",
        "1. Which line in the Numpy Uber section above will create a new array which is the result of subtracting the Mikaela array from each row of the customers array resulting in\n",
        "\n",
        "```\n",
        "array([[ 1,  3, -2, -4, -1],\n",
        "       [ 0, -1,  1, -1, -2],\n",
        "       [ 2,  3, -2, -3, -1],\n",
        "       [ 1, -1,  0, -1, -3],\n",
        "       [-2, -1,  1, -1, -3],\n",
        "       [ 1,  3, -1, -2, -3]])\n",
        "       ```\n"
      ]
    },
    {
      "cell_type": "code",
      "metadata": {
        "id": "eywG0y-ailMi",
        "colab_type": "code",
        "colab": {}
      },
      "source": [
        "xyzabdiff = customers - mikaela # TODO\n"
      ],
      "execution_count": null,
      "outputs": []
    },
    {
      "cell_type": "markdown",
      "metadata": {
        "id": "Oiv4zBhNilMk",
        "colab_type": "text"
      },
      "source": [
        "2. Which line above will take the array you created and generate a single integer distance for each row representing how far away that row is from Mikaela?  The results will look like:\n",
        "\n",
        "```\n",
        "    array([11,  5, 11,  6,  8, 10])\n",
        "```"
      ]
    },
    {
      "cell_type": "code",
      "metadata": {
        "id": "gc6XjR8jilMk",
        "colab_type": "code",
        "colab": {}
      },
      "source": [
        "distanceMikaela = np.abs(xyzabdiff).sum(axis = 1) # TO DO \n"
      ],
      "execution_count": null,
      "outputs": []
    },
    {
      "cell_type": "markdown",
      "metadata": {
        "id": "jqaX6jbhilMo",
        "colab_type": "text"
      },
      "source": [
        "Finally, we want a sorted array of indices, the zeroth element of that array will be the closest row to Mikaela, the next element will be the next closest and so on. The result should be\n",
        "\n",
        "```\n",
        "array([1, 3, 4, 5, 0, 2])\n",
        "```\n"
      ]
    },
    {
      "cell_type": "code",
      "metadata": {
        "id": "d93ND_9bilMo",
        "colab_type": "code",
        "colab": {}
      },
      "source": [
        "sortedMikaela = np.argsort(distanceMikaela) # TO DO\n"
      ],
      "execution_count": null,
      "outputs": []
    },
    {
      "cell_type": "markdown",
      "metadata": {
        "id": "1yClqhKkilMs",
        "colab_type": "text"
      },
      "source": [
        "Finally we need the name of the person that is the closest. "
      ]
    },
    {
      "cell_type": "code",
      "metadata": {
        "id": "vdeKyDn1ilMt",
        "colab_type": "code",
        "colab": {}
      },
      "source": [
        "result = customerNames[sortedMikaela[0]]# TO DO"
      ],
      "execution_count": null,
      "outputs": []
    },
    {
      "cell_type": "markdown",
      "metadata": {
        "id": "-A1koEh5ilM_",
        "colab_type": "text"
      },
      "source": [
        "Okay, time to put it all together. Can you combine all the code you wrote above to finish the following function? So x is the new person and we want to find the closest customer to x."
      ]
    },
    {
      "cell_type": "code",
      "metadata": {
        "id": "ib_oEEDxilNB",
        "colab_type": "code",
        "colab": {
          "base_uri": "https://localhost:8080/",
          "height": 51
        },
        "outputId": "06be1b53-8b1c-42c0-8693-a03fbdc5e478"
      },
      "source": [
        "def findClosest(customers, customerNames, x):\n",
        "   xdiff = customers - x\n",
        "   distancex = np.abs(xdiff).sum(axis = 1)\n",
        "   sortedx = np.argsort(distancex)\n",
        "   customerNames[sortedx[0]]# TO DO\n",
        "   return ''\n",
        "\n",
        "\n",
        "print(findClosest(customers, customerNames, mikaela)) # Should print Ben\n",
        "print(findClosest(customers, customerNames, brandon)) # Should print Ann"
      ],
      "execution_count": null,
      "outputs": [
        {
          "output_type": "stream",
          "text": [
            "\n",
            "\n"
          ],
          "name": "stdout"
        }
      ]
    },
    {
      "cell_type": "markdown",
      "metadata": {
        "id": "FGqA901QilNF",
        "colab_type": "text"
      },
      "source": [
        "## Numpy Amazon\n",
        "\n",
        "We are going to start with the same array we did way up above:\n",
        "\n",
        " \n",
        " | Drone |xPos | yPos |\n",
        " | :---: | :---: | :---: |\n",
        " | wing_1a | 4 | 5 |\n",
        " | wing_2a | 6 | 6 |\n",
        " | wing_3a | 3 | 1 |\n",
        " | wing_4a | 9 | 5 |\n",
        " \n",
        " But this time, instead of Uber drivers, think of these as positions of [Alphabet's Wing delivery drones](https://wing.com/). \n",
        " Now we would like to find the closest drone to a customer who is at 7, 1.\n",
        " \n",
        "With the previous example we used Manhattan Distance.  With drones, we can compute the distance as the crow flies -- or Euclidean Distance.  We probably learned how to do this way back in 7th grade when we learned the Pythagorean Theorem which states:\n",
        "\n",
        "$$c^2 = a^2 + b^2$$\n",
        "\n",
        "Where *c* is the hypotenuse and *a* and *b* are the two other sides. So, if we want to find *c*:\n",
        "\n",
        "$$c = \\sqrt{a^2 + b^2}$$\n",
        "\n",
        "\n",
        "If we want to find the distance between the drone and a customer, *x* and *y* in the formula becomes\n",
        "\n",
        "$$Dist_{xy} = \\sqrt{(x_1-y_1)^2 + (x_2-y_2)^2}$$\n",
        "\n",
        "and for `wing_1a` who is at `[4,5]` and our customer who is at `[7,1]` then the formula becomes:\n",
        "\n",
        "$$Dist_{xy} = \\sqrt{(x_1-y_1)^2 + (x_2-y_2)^2} = \\sqrt{(4-7)^2 + (5-1)^2} =\\sqrt{-3^2 + 4^2}  = \\sqrt{9 + 16} = \\sqrt{25} = 5$$\n",
        "\n",
        "Sweet!  And to generalize this distance formula:\n",
        "\n",
        "$$Dist_{xy} = \\sqrt{(x_1-y_1)^2 + (x_2-y_2)^2}$$\n",
        "\n",
        "to n-dimensions:\n",
        "\n",
        "$$Dist_{xy} = \\sum_{i=1}^n{\\sqrt{(x_i-y_i)^2}}$$\n",
        "\n",
        "\n",
        "\n",
        "\n",
        "<h4 style=\"color:red\">Q4. You Try</h3>\n",
        "<span style=\"color:red\">Can you write a function euclidean that takes 3 arguments: droneLocation, droneNames, and an array representing one customer's position and returns the name of the closest drone?</span>\n",
        "\n",
        "First, a helpful hint:\n"
      ]
    },
    {
      "cell_type": "code",
      "metadata": {
        "id": "UbW2mDAAilNF",
        "colab_type": "code",
        "colab": {
          "base_uri": "https://localhost:8080/",
          "height": 34
        },
        "outputId": "89266185-3cf7-4b4f-fd8e-d5c87310bcfc"
      },
      "source": [
        "arr = np.array([-1, 2, -3, 4])\n",
        "arr2 = np.square(arr)\n",
        "arr2"
      ],
      "execution_count": null,
      "outputs": [
        {
          "output_type": "execute_result",
          "data": {
            "text/plain": [
              "array([ 1,  4,  9, 16])"
            ]
          },
          "metadata": {
            "tags": []
          },
          "execution_count": 63
        }
      ]
    },
    {
      "cell_type": "code",
      "metadata": {
        "id": "fNvGvwwIilNH",
        "colab_type": "code",
        "colab": {
          "base_uri": "https://localhost:8080/",
          "height": 35
        },
        "outputId": "53b4fe87-a4a6-4b8a-9f81-57caacec7ac0"
      },
      "source": [
        "locations = np.array([[4, 5], [6, 6], [3, 1], [9,5]])\n",
        "drivers = np.array([\"wing_1a\", \"wing_2a\", \"wing_3a\", \"wing_4a\"])\n",
        "cust = np.array([6, 3])\n",
        "\n",
        "def euclidean(droneLocation, droneNames, x):\n",
        "   result = ''\n",
        "   xdiff = droneLocation - x \n",
        "   xdistance = np.sqrt(np.square(xdiff).sum(axis = 1))\n",
        "   xsorted = np.argsort(xdistance)\n",
        "   result = droneNames[xsorted[0]]   \n",
        "   return result\n",
        "euclidean(locations, drivers, cust) "
      ],
      "execution_count": null,
      "outputs": [
        {
          "output_type": "execute_result",
          "data": {
            "application/vnd.google.colaboratory.intrinsic+json": {
              "type": "string"
            },
            "text/plain": [
              "'wing_1a'"
            ]
          },
          "metadata": {
            "tags": []
          },
          "execution_count": 68
        }
      ]
    },
    {
      "cell_type": "markdown",
      "metadata": {
        "id": "miphsixpilNN",
        "colab_type": "text"
      },
      "source": [
        "<h4 style=\"color:red\">Q5. You Try</h3>\n",
        "<span style=\"color:red\">try your code on the \"Amazing 5D Music example. Does it return the same person or a different one?\"</span>"
      ]
    },
    {
      "cell_type": "code",
      "metadata": {
        "id": "wfC9D3s4ilNO",
        "colab_type": "code",
        "colab": {
          "base_uri": "https://localhost:8080/",
          "height": 51
        },
        "outputId": "6d4fe865-d393-4a09-c446-ab17a5a4874b"
      },
      "source": [
        "print(euclidean(customers, customerNames, mikaela))\n",
        "print(euclidean(customers, customerNames, brandon))"
      ],
      "execution_count": null,
      "outputs": [
        {
          "output_type": "stream",
          "text": [
            "Ben\n",
            "Ann\n"
          ],
          "name": "stdout"
        }
      ]
    },
    {
      "cell_type": "markdown",
      "metadata": {
        "id": "r-tBQHft24BV",
        "colab_type": "text"
      },
      "source": [
        "In this case, running the arrays for Mikaela returned Ben and for Brandon the result was Ann regardless whether using the \"findClosest\" Manahattan Distance calculation or the Euclidean calculation."
      ]
    },
    {
      "cell_type": "markdown",
      "metadata": {
        "id": "_fBhQ1Ye2ZCu",
        "colab_type": "text"
      },
      "source": [
        "print(findClosest(customers, customerNames, mikaela)) # Should print Ben\n",
        "print(findClosest(customers, customerNames, brandon)) # Should print Ann"
      ]
    }
  ]
}